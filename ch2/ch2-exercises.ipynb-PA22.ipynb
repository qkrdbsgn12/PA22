{
  "nbformat": 4,
  "nbformat_minor": 0,
  "metadata": {
    "colab": {
      "name": "ch2_exercises.ipynb",
      "provenance": [],
      "collapsed_sections": [],
      "include_colab_link": true
    },
    "kernelspec": {
      "name": "python385jvsc74a57bd09351da262d6df6f1659b4e76f11302a547dc65a2ff1d9f943c3c3a604547bad5",
      "display_name": "Python 3.8.5 64-bit (conda)"
    }
  },
  "cells": [
    {
      "source": [
        "## ch2-exercises-PA22.ipynb"
      ],
      "cell_type": "markdown",
      "metadata": {
        "id": "ovY5jkD5dpxE",
        "colab_type": "text"
      }
    },
    {
      "cell_type": "markdown",
      "metadata": {
        "id": "SZw6UnxQWYBe",
        "colab_type": "text"
      },
      "source": [
        "## Q1.\n",
        "> 홍길동 씨의 과목별 점수는 다음과 같다. 홍길동 씨의 평균 점수를 구해 보자.\n",
        "\n",
        "- 과목\t점수\n",
        "- 국어\t80\n",
        "- 영어\t75\n",
        "- 수학\t55"
      ]
    },
    {
      "cell_type": "code",
      "metadata": {
        "id": "rUNNaqJPdg7B",
        "colab_type": "code",
        "colab": {}
      },
      "source": [
        "a = 80\n",
        "b = 75\n",
        "c = 55\n",
        "(a+b+c)/3\n"
      ],
      "execution_count": 2,
      "outputs": [
        {
          "output_type": "execute_result",
          "data": {
            "text/plain": [
              "70.0"
            ]
          },
          "metadata": {},
          "execution_count": 2
        }
      ]
    },
    {
      "cell_type": "markdown",
      "metadata": {
        "colab_type": "text",
        "id": "re2-XrUYXF1m"
      },
      "source": [
        "## Q2.\n",
        "> 자연수 13이 홀수인지 짝수인지 판별할 수 있는 방법에 대해 말해 보자.\n",
        "\n",
        "1. 판별 기준\n",
        "2. 코드\n"
      ]
    },
    {
      "cell_type": "code",
      "metadata": {
        "colab_type": "code",
        "id": "5MBLUZ5WXF1q",
        "colab": {}
      },
      "source": [
        "# 1. 자연수 13을 2로 나누었을 때 나머지가 1이면 홀수, 나머지가 0이면 짝수이다.\n",
        "# 2. 13 % 2\n",
        "\n",
        "13 % 2\n"
      ],
      "execution_count": 7,
      "outputs": [
        {
          "output_type": "execute_result",
          "data": {
            "text/plain": [
              "1"
            ]
          },
          "metadata": {},
          "execution_count": 7
        }
      ]
    },
    {
      "cell_type": "markdown",
      "metadata": {
        "colab_type": "text",
        "id": "UZy8lu_BXGnT"
      },
      "source": [
        " ## Q3.\n",
        "> 홍길동 씨의 주민등록번호는 881120-1068234이다. 홍길동 씨의 주민등록번호를 연월일(YYYYMMDD) 부분과 그 뒤의 숫자 부분으로 나누어 출력해 보자.\n",
        "\n",
        "- 문자열 슬라이싱 기법을 사용해 보자."
      ]
    },
    {
      "cell_type": "code",
      "metadata": {
        "colab_type": "code",
        "id": "H9T_sXHzXGnW",
        "colab": {}
      },
      "source": [
        "a = \"881120-1068234\"\n",
        "print(a[0:6])\n",
        "print(a[7:14])\n",
        "\n"
      ],
      "execution_count": 31,
      "outputs": [
        {
          "output_type": "stream",
          "name": "stdout",
          "text": [
            "881120\n1068234\n"
          ]
        }
      ]
    },
    {
      "cell_type": "markdown",
      "metadata": {
        "colab_type": "text",
        "id": "fqypxxqTXHY7"
      },
      "source": [
        "## Q4.\n",
        "> 주민등록번호 뒷자리의 맨 첫 번째 숫자는 성별을 나타낸다. 주민등록번호에서 성별을 나타내는 숫자를 출력해 보자.\n",
        "\n",
        "- pin = \"881120-1068234\"\n",
        "- ※ 문자열 인덱싱 또는 내장함수를 사용해 보자.\n",
        "- 문자열포맷팅을 이용해서 성별을 출력하시오."
      ]
    },
    {
      "cell_type": "code",
      "metadata": {
        "colab_type": "code",
        "id": "oQ5UnmayXHY-",
        "colab": {}
      },
      "source": [
        "a = \"881120-1068234\"\n",
        "print(a[7])\n",
        "\n"
      ],
      "execution_count": 33,
      "outputs": [
        {
          "output_type": "stream",
          "name": "stdout",
          "text": [
            "1\n"
          ]
        }
      ]
    },
    {
      "cell_type": "markdown",
      "metadata": {
        "colab_type": "text",
        "id": "NKsvciXZXIL-"
      },
      "source": [
        "## Q5.\n",
        "> 다음과 같은 문자열 a:b:c:d가 있다. 문자열의 replace 함수를 사용하여 a#b#c#d로 바꿔서 출력해 보자.\n",
        "\n",
        "- a = \"a:b:c:d\""
      ]
    },
    {
      "cell_type": "code",
      "metadata": {
        "colab_type": "code",
        "id": "5MZQYOVjXIL_",
        "colab": {}
      },
      "source": [
        "a = \"a:b:c:d\"\n",
        "print(a.replace(\"a:b:c:d\", \"a#b#c#d\"))\n"
      ],
      "execution_count": 34,
      "outputs": [
        {
          "output_type": "stream",
          "name": "stdout",
          "text": [
            "a#b#c#d\n"
          ]
        }
      ]
    },
    {
      "cell_type": "markdown",
      "metadata": {
        "colab_type": "text",
        "id": "-3KHtOOoXJBV"
      },
      "source": [
        "## Q6.\n",
        "> \\[1, 3, 5, 4, 2\\] 리스트를 \\[5, 4, 3, 2, 1\\]로 만들어 보자.\n",
        "\n",
        "- ※ 리스트의 내장 함수를 사용해 보자."
      ]
    },
    {
      "cell_type": "code",
      "metadata": {
        "colab_type": "code",
        "id": "AjYR0lUaXJBa",
        "colab": {}
      },
      "source": [
        "a = [1, 3, 5, 4, 2]\n",
        "a.sort()\n",
        "a\n",
        "a.reverse()\n",
        "a"
      ],
      "execution_count": 106,
      "outputs": [
        {
          "output_type": "execute_result",
          "data": {
            "text/plain": [
              "[5, 4, 3, 2, 1]"
            ]
          },
          "metadata": {},
          "execution_count": 106
        }
      ]
    },
    {
      "cell_type": "markdown",
      "metadata": {
        "colab_type": "text",
        "id": "t4IiVHLeZZiY"
      },
      "source": [
        "## Q7.\n",
        "> \\['Life', 'is', 'too', 'short'\\] 리스트를 Life is too short 문자열로 만들어 출력해 보자.\n",
        "\n",
        "- ※ 문자열의 join 함수를 사용하면 리스트를 문자열로 쉽게 만들 수 있다."
      ]
    },
    {
      "cell_type": "code",
      "metadata": {
        "colab_type": "code",
        "id": "9N_atipGZZii",
        "colab": {}
      },
      "source": [
        "a = ['Life', 'is', 'too', 'short']\n",
        "result = ' '.join(a)\n",
        "print(result)\n"
      ],
      "execution_count": 96,
      "outputs": [
        {
          "output_type": "stream",
          "name": "stdout",
          "text": [
            "Life is too short\n"
          ]
        }
      ]
    },
    {
      "cell_type": "markdown",
      "metadata": {
        "colab_type": "text",
        "id": "-lBhb33mZaak"
      },
      "source": [
        "## Q8.\n",
        "> (1,2,3) 튜플에 값 4를 추가하여 (1,2,3,4)를 만들어 출력해 보자.\n",
        "\n",
        "- ※ 더하기(+) 또는 다른 방법들을 사용해 보자."
      ]
    },
    {
      "cell_type": "code",
      "metadata": {
        "colab_type": "code",
        "id": "i4BTj9htZaao",
        "colab": {}
      },
      "source": [
        "t1 = (1,2,3)\n",
        "t2 = (4,)\n",
        "t1+t2"
      ],
      "execution_count": 75,
      "outputs": [
        {
          "output_type": "execute_result",
          "data": {
            "text/plain": [
              "(1, 2, 3, 4)"
            ]
          },
          "metadata": {},
          "execution_count": 75
        }
      ]
    },
    {
      "cell_type": "markdown",
      "metadata": {
        "colab_type": "text",
        "id": "RbzxnM_2ZbD7"
      },
      "source": [
        "## Q9.\n",
        "> 다음과 같은 딕셔너리 a가 있다.\n",
        "\n",
        ">> a = dict()  \n",
        ">> a  \n",
        "{}\n",
        "\n",
        "- 다음 중 오류가 발생하는 경우를 고르고, 그 이유를 설명해 보자.\n",
        "\n",
        "1. a\\['name'\\] = 'python'\n",
        "2. a\\[('a',)\\] = 'python'\n",
        "3. a\\[\\[1\\]\\] = 'python'\n",
        "4. a\\[250\\] = 'python'"
      ]
    },
    {
      "cell_type": "code",
      "metadata": {
        "colab_type": "code",
        "id": "f-5U0rBgZbEB",
        "colab": {}
      },
      "source": [
        "2. ()를 사용하였기 때문이다.\n",
        "\n"
      ],
      "execution_count": 33,
      "outputs": []
    },
    {
      "cell_type": "markdown",
      "metadata": {
        "colab_type": "text",
        "id": "9qiSBPM8Zbpj"
      },
      "source": [
        "## Q10.\n",
        "> 딕셔너리 a에서 'B'에 해당되는 값을 추출해 보자.\n",
        ">> a = {'A':90, 'B':80, 'C':70}\n",
        "\n",
        "- ※ 딕셔너리의 pop 함수를 사용해 보자."
      ]
    },
    {
      "cell_type": "code",
      "metadata": {
        "colab_type": "code",
        "id": "Y9swWMWHZbpm",
        "colab": {}
      },
      "source": [
        "a = {'A':90, 'B':80, 'C':70}\n",
        "a.pop('B')"
      ],
      "execution_count": 47,
      "outputs": [
        {
          "output_type": "execute_result",
          "data": {
            "text/plain": [
              "80"
            ]
          },
          "metadata": {},
          "execution_count": 47
        }
      ]
    },
    {
      "cell_type": "markdown",
      "metadata": {
        "colab_type": "text",
        "id": "88KNoXFNZcR7"
      },
      "source": [
        "## Q11.\n",
        "> a 리스트에서 중복 숫자를 제거해 보자.\n",
        ">> a = \\[1, 1, 1, 2, 2, 3, 3, 3, 4, 4, 5\\]\n",
        "\n",
        "- ※ 집합 자료형의 요솟값이 중복될 수 없다는 특징을 사용해 보자."
      ]
    },
    {
      "cell_type": "code",
      "metadata": {
        "colab_type": "code",
        "id": "paSvArIWZcSB",
        "colab": {}
      },
      "source": [
        "a = set([1, 1, 1, 2, 2, 3, 3, 3, 4, 4, 5])\n",
        "a\n",
        "\n"
      ],
      "execution_count": 38,
      "outputs": [
        {
          "output_type": "execute_result",
          "data": {
            "text/plain": [
              "{1, 2, 3, 4, 5}"
            ]
          },
          "metadata": {},
          "execution_count": 38
        }
      ]
    },
    {
      "cell_type": "markdown",
      "metadata": {
        "colab_type": "text",
        "id": "EzVVHI-AZc3T"
      },
      "source": [
        "## Q12.\n",
        "> 파이썬은 다음처럼 동일한 값에 여러 개의 변수를 선언할 수 있다. 다음과 같이 a, b 변수를 선언한 후 a의 두 번째 요솟값을 변경하면 b 값은 어떻게 될까? 그리고 이런 결과가 오는 이유에 대해 설명해 보자.\n",
        "\n",
        ">> a = b = \\[1, 2, 3\\]  \n",
        ">> a\\[1\\] = 4  \n",
        ">> print(b)  \n"
      ]
    },
    {
      "source": [
        "a의 값과 b의 값이 같기 때문이다."
      ],
      "cell_type": "markdown",
      "metadata": {
        "colab_type": "code",
        "id": "RvRIUGqAZc3W",
        "colab": {}
      }
    },
    {
      "cell_type": "markdown",
      "metadata": {
        "id": "2ljBDShkbqZO",
        "colab_type": "text"
      },
      "source": [
        "## 코딩 연습 결과를 github에 올리기\n",
        "> 완성된 ipython 노트북 파일을 각자의 github에 올리시오.\n",
        "\n",
        "- github 계정 만들기 (계정이 없는 학생)\n",
        "    1. github에 sign up (Google gmail 계정을 이용해서 만드시오.)\n",
        "- github에 노트 올리기\n",
        "    2. github에 각자의 id로 repo를 만드시오. (한번 만들면 계속 재사용)\n",
        "    3. **github repo의 ch2 폴더에 연습문제 풀이 노트를 올리시오.**\n",
        "        - 제출노트: ch2-exercises-id.ipynb\n"
      ]
    },
    {
      "cell_type": "code",
      "metadata": {
        "id": "OnCR-YNCc8B6",
        "colab_type": "code",
        "colab": {}
      },
      "source": [],
      "execution_count": 0,
      "outputs": []
    }
  ]
}